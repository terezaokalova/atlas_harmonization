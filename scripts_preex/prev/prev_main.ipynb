{
 "cells": [
  {
   "cell_type": "code",
   "execution_count": 1,
   "metadata": {},
   "outputs": [],
   "source": [
    "import scipy.io as sc\n",
    "import pandas as pd\n",
    "import os\n",
    "import numpy as np\n",
    "import matplotlib.pyplot as plt\n",
    "from scipy.signal import welch, butter, lfilter\n",
    "from scipy.signal.windows import hamming\n",
    "import nibabel as nib\n",
    "from sklearn.neighbors import NearestNeighbors\n",
    "from sklearn.preprocessing import minmax_scale"
   ]
  },
  {
   "cell_type": "code",
   "execution_count": 9,
   "metadata": {},
   "outputs": [
    {
     "ename": "ImportError",
     "evalue": "cannot import name 'merge_rois' from 'custom_functions' (/Users/tereza/nishant/atlas/atlas_work_terez/atlas_harmonization/code/custom_functions.py)",
     "output_type": "error",
     "traceback": [
      "\u001b[0;31m---------------------------------------------------------------------------\u001b[0m",
      "\u001b[0;31mImportError\u001b[0m                               Traceback (most recent call last)",
      "Cell \u001b[0;32mIn[9], line 2\u001b[0m\n\u001b[1;32m      1\u001b[0m \u001b[38;5;66;03m# Import all custom functions\u001b[39;00m\n\u001b[0;32m----> 2\u001b[0m \u001b[38;5;28;01mfrom\u001b[39;00m \u001b[38;5;21;01mcustom_functions\u001b[39;00m \u001b[38;5;28;01mimport\u001b[39;00m (\n\u001b[1;32m      3\u001b[0m     merge_rois,\n\u001b[1;32m      4\u001b[0m     implant2roi,\n\u001b[1;32m      5\u001b[0m     get_norm_psd,\n\u001b[1;32m      6\u001b[0m     get_norm_entropy,\n\u001b[1;32m      7\u001b[0m     plot_ieeg_atlas,\n\u001b[1;32m      8\u001b[0m     compare_ieeg_atlas,\n\u001b[1;32m      9\u001b[0m     make_seizure_free,\n\u001b[1;32m     10\u001b[0m     make_seizure_free_abr,\n\u001b[1;32m     11\u001b[0m     univariate_abr,\n\u001b[1;32m     12\u001b[0m     node_abr_edge,\n\u001b[1;32m     13\u001b[0m     edgeslist_to_abr_conn,\n\u001b[1;32m     14\u001b[0m     main_univar\n\u001b[1;32m     15\u001b[0m )\n",
      "\u001b[0;31mImportError\u001b[0m: cannot import name 'merge_rois' from 'custom_functions' (/Users/tereza/nishant/atlas/atlas_work_terez/atlas_harmonization/code/custom_functions.py)"
     ]
    }
   ],
   "source": [
    "# Import all custom functions\n",
    "from custom_functions import (\n",
    "    merge_rois,\n",
    "    implant2roi,\n",
    "    get_norm_psd,\n",
    "    get_norm_entropy,\n",
    "    plot_ieeg_atlas,\n",
    "    compare_ieeg_atlas,\n",
    "    make_seizure_free,\n",
    "    make_seizure_free_abr,\n",
    "    univariate_abr,\n",
    "    node_abr_edge,\n",
    "    edgeslist_to_abr_conn,\n",
    "    main_univar\n",
    ")"
   ]
  },
  {
   "cell_type": "code",
   "execution_count": 2,
   "metadata": {},
   "outputs": [],
   "source": [
    "base_path = '/Users/tereza/nishant/atlas/epi_iEEG_atlas'"
   ]
  },
  {
   "cell_type": "code",
   "execution_count": null,
   "metadata": {},
   "outputs": [],
   "source": [
    "def main():\n",
    "    # Parameters\n",
    "    EngelSFThres = 1.1\n",
    "    spikeThresh = 24\n",
    "\n",
    "    # Load and prepare atlas data\n",
    "    print(\"Loading atlas data...\")\n",
    "    atlas = {}\n",
    "    atlas_path = os.path.join(base_path, 'Data', 'AAL.nii.gz')\n",
    "    atlas['data'] = nib.load(atlas_path).get_fdata()\n",
    "    atlas['data'][atlas['data'] > 9000] = 0\n",
    "    atlas['hdr'] = nib.load(atlas_path).header\n",
    "    \n",
    "    # Load other required data\n",
    "    print(\"Loading other data files...\")\n",
    "    MNI_atlas = sc.loadmat(os.path.join(base_path, 'Data', 'MNI_atlas.mat'))\n",
    "    HUP_atlas = sc.loadmat(os.path.join(base_path, 'Data', 'HUP_atlas.mat'))\n",
    "    metaData = sc.loadmat(os.path.join(base_path, 'Data', 'metaData.mat'))\n",
    "    customAAL = pd.read_excel(os.path.join(base_path, 'Data', 'custom_atlas.xlsx'))\n",
    "    roiAAL = sc.loadmat(os.path.join(base_path, 'Data', 'roiAAL.mat'))\n",
    "\n",
    "    # Create custom atlas\n",
    "    print(\"Creating custom atlas...\")\n",
    "    atlasCustom, roiAALcustom = merge_rois(customAAL, roiAAL, atlas)\n",
    "    atlas['tbl'] = roiAAL\n",
    "    atlasCustom['tbl'] = roiAALcustom\n",
    "    atlas = atlasCustom\n",
    "\n",
    "    # Run univariate analysis\n",
    "    print(\"Running univariate analysis...\")\n",
    "    norm_MNI_HUP_Atlas, iEEG_hup_all, abrnorm_hup_atlas = main_univar(\n",
    "        metaData, atlas, MNI_atlas, HUP_atlas, EngelSFThres, spikeThresh\n",
    "    )\n",
    "\n",
    "    # Generate univariate z-scores\n",
    "    print(\"Computing univariate z-scores...\")\n",
    "    iEEG_hup_all_z = univariate_abr(norm_MNI_HUP_Atlas, iEEG_hup_all)\n",
    "\n",
    "    # Create output directory if it doesn't exist\n",
    "    os.makedirs(os.path.join(base_path, 'Figures'), exist_ok=True)\n",
    "\n",
    "    # Generate and save comparison plots\n",
    "    print(\"Generating comparison plots...\")\n",
    "    plot_comparisons(norm_MNI_HUP_Atlas, iEEG_hup_all_z, base_path)\n",
    "\n",
    "    return norm_MNI_HUP_Atlas, iEEG_hup_all_z, abrnorm_hup_atlas\n",
    "\n",
    "def plot_comparisons(norm_MNI_HUP_Atlas, iEEG_hup_all_z, base_path):\n",
    "    \"\"\"Generate comprehensive comparison plots\"\"\"\n",
    "    \n",
    "    # Plot 1: Feature distributions across cohorts\n",
    "    plt.figure(figsize=(12, 6))\n",
    "    bands = ['delta', 'theta', 'alpha', 'beta', 'gamma']\n",
    "    plt.boxplot([iEEG_hup_all_z[f'{band}_z'] for band in bands])\n",
    "    plt.xticks(range(1, len(bands) + 1), bands)\n",
    "    plt.ylabel('Z-scored Power')\n",
    "    plt.title('Distribution of Frequency Band Powers')\n",
    "    plt.savefig(os.path.join(base_path, 'Figures', 'band_powers.pdf'))\n",
    "    plt.close()\n",
    "\n",
    "    # Plot 2: ROI comparison\n",
    "    plt.figure(figsize=(15, 8))\n",
    "    roi_means = norm_MNI_HUP_Atlas.groupby('roi')[bands].mean()\n",
    "    roi_means.plot(kind='bar')\n",
    "    plt.title('Mean Band Power by ROI')\n",
    "    plt.xticks(rotation=45)\n",
    "    plt.tight_layout()\n",
    "    plt.savefig(os.path.join(base_path, 'Figures', 'roi_comparison.pdf'))\n",
    "    plt.close()\n",
    "\n",
    "# If running in a notebook, you can run this directly:\n",
    "try:\n",
    "    norm_MNI_HUP_Atlas, iEEG_hup_all_z, abrnorm_hup_atlas = main()\n",
    "    print(\"Analysis completed successfully.\")\n",
    "    print(f\"Results saved in {os.path.join(base_path, 'Figures')}\")\n",
    "except Exception as e:\n",
    "    print(f\"Error during analysis: {str(e)}\")"
   ]
  }
 ],
 "metadata": {
  "kernelspec": {
   "display_name": "cnt_gen",
   "language": "python",
   "name": "python3"
  },
  "language_info": {
   "codemirror_mode": {
    "name": "ipython",
    "version": 3
   },
   "file_extension": ".py",
   "mimetype": "text/x-python",
   "name": "python",
   "nbconvert_exporter": "python",
   "pygments_lexer": "ipython3",
   "version": "3.12.4"
  }
 },
 "nbformat": 4,
 "nbformat_minor": 2
}
