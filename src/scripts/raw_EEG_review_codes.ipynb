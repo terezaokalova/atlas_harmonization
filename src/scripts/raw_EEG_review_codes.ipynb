{
 "cells": [
  {
   "cell_type": "code",
   "execution_count": 2,
   "metadata": {},
   "outputs": [],
   "source": [
    "import numpy as np\n",
    "import os, sys\n",
    "import mne\n",
    "# need to install pyqt5/6, pip install pyqt6\n",
    "\n",
    "# the trick to have interactive plots\n",
    "%matplotlib qt "
   ]
  },
  {
   "cell_type": "code",
   "execution_count": 3,
   "metadata": {},
   "outputs": [],
   "source": [
    "eeg = np.load('/Users/nishant/Dropbox/Sinha/Lab/Research/ieeg_atlas_harmonization/data/hup/derivatives/bipolar/sub-RID0031/interictal_eeg_bipolar_0.pkl', allow_pickle=True)\n"
   ]
  },
  {
   "cell_type": "code",
   "execution_count": 4,
   "metadata": {},
   "outputs": [
    {
     "data": {
      "text/plain": [
       "Index(['LA01', 'LA02', 'LA03', 'LA04', 'LA05', 'LA06', 'LA07', 'LA08', 'LA09',\n",
       "       'LB01',\n",
       "       ...\n",
       "       'RH07', 'RH08', 'RH09', 'RI01', 'RI02', 'RI03', 'RI04', 'RI05', 'RI06',\n",
       "       'RI07'],\n",
       "      dtype='object', length=109)"
      ]
     },
     "execution_count": 4,
     "metadata": {},
     "output_type": "execute_result"
    }
   ],
   "source": []
  },
  {
   "cell_type": "code",
   "execution_count": 9,
   "metadata": {},
   "outputs": [
    {
     "ename": "TypeError",
     "evalue": "ch_names must be an instance of list, tuple, or int, got <class 'pandas.core.indexes.base.Index'> instead.",
     "output_type": "error",
     "traceback": [
      "\u001b[0;31m---------------------------------------------------------------------------\u001b[0m",
      "\u001b[0;31mTypeError\u001b[0m                                 Traceback (most recent call last)",
      "Cell \u001b[0;32mIn[9], line 14\u001b[0m\n\u001b[1;32m     11\u001b[0m data[\u001b[38;5;241m~\u001b[39mvalid_index,:] \u001b[38;5;241m=\u001b[39m \u001b[38;5;241m0\u001b[39m\n\u001b[1;32m     13\u001b[0m \u001b[38;5;66;03m# use mne to plot the data\u001b[39;00m\n\u001b[0;32m---> 14\u001b[0m info \u001b[38;5;241m=\u001b[39m \u001b[43mmne\u001b[49m\u001b[38;5;241;43m.\u001b[39;49m\u001b[43mcreate_info\u001b[49m\u001b[43m(\u001b[49m\u001b[43mch_names\u001b[49m\u001b[38;5;241;43m=\u001b[39;49m\u001b[43mlabels\u001b[49m\u001b[43m,\u001b[49m\u001b[43m \u001b[49m\u001b[43msfreq\u001b[49m\u001b[38;5;241;43m=\u001b[39;49m\u001b[43mfs\u001b[49m\u001b[43m,\u001b[49m\u001b[43m \u001b[49m\u001b[43mch_types\u001b[49m\u001b[38;5;241;43m=\u001b[39;49m\u001b[43m[\u001b[49m\u001b[38;5;124;43m'\u001b[39;49m\u001b[38;5;124;43meeg\u001b[39;49m\u001b[38;5;124;43m'\u001b[39;49m\u001b[43m]\u001b[49m\u001b[43m \u001b[49m\u001b[38;5;241;43m*\u001b[39;49m\u001b[43m \u001b[49m\u001b[38;5;28;43mlen\u001b[39;49m\u001b[43m(\u001b[49m\u001b[43mlabels\u001b[49m\u001b[43m)\u001b[49m\u001b[43m)\u001b[49m\n\u001b[1;32m     15\u001b[0m raw \u001b[38;5;241m=\u001b[39m mne\u001b[38;5;241m.\u001b[39mio\u001b[38;5;241m.\u001b[39mRawArray(data\u001b[38;5;241m.\u001b[39mT, info)  \u001b[38;5;66;03m# Note: data needs to be transposed\u001b[39;00m\n\u001b[1;32m     16\u001b[0m raw\u001b[38;5;241m.\u001b[39mplot(show\u001b[38;5;241m=\u001b[39m\u001b[38;5;28;01mTrue\u001b[39;00m)\n",
      "File \u001b[0;32m<decorator-gen-49>:12\u001b[0m, in \u001b[0;36mcreate_info\u001b[0;34m(ch_names, sfreq, ch_types, verbose)\u001b[0m\n",
      "File \u001b[0;32m~/Dropbox/Sinha/Lab/Research/ieeg_atlas_harmonization/.venv/lib/python3.13/site-packages/mne/_fiff/meas_info.py:3213\u001b[0m, in \u001b[0;36mcreate_info\u001b[0;34m(ch_names, sfreq, ch_types, verbose)\u001b[0m\n\u001b[1;32m   3211\u001b[0m \u001b[38;5;28;01melse\u001b[39;00m:\n\u001b[1;32m   3212\u001b[0m     ch_names \u001b[38;5;241m=\u001b[39m \u001b[38;5;28mlist\u001b[39m(np\u001b[38;5;241m.\u001b[39marange(ch_names)\u001b[38;5;241m.\u001b[39mastype(\u001b[38;5;28mstr\u001b[39m))\n\u001b[0;32m-> 3213\u001b[0m \u001b[43m_validate_type\u001b[49m\u001b[43m(\u001b[49m\u001b[43mch_names\u001b[49m\u001b[43m,\u001b[49m\u001b[43m \u001b[49m\u001b[43m(\u001b[49m\u001b[38;5;28;43mlist\u001b[39;49m\u001b[43m,\u001b[49m\u001b[43m \u001b[49m\u001b[38;5;28;43mtuple\u001b[39;49m\u001b[43m)\u001b[49m\u001b[43m,\u001b[49m\u001b[43m \u001b[49m\u001b[38;5;124;43m\"\u001b[39;49m\u001b[38;5;124;43mch_names\u001b[39;49m\u001b[38;5;124;43m\"\u001b[39;49m\u001b[43m,\u001b[49m\u001b[43m \u001b[49m\u001b[43m(\u001b[49m\u001b[38;5;124;43m\"\u001b[39;49m\u001b[38;5;124;43mlist, tuple, or int\u001b[39;49m\u001b[38;5;124;43m\"\u001b[39;49m\u001b[43m)\u001b[49m\u001b[43m)\u001b[49m\n\u001b[1;32m   3214\u001b[0m sfreq \u001b[38;5;241m=\u001b[39m \u001b[38;5;28mfloat\u001b[39m(sfreq)\n\u001b[1;32m   3215\u001b[0m \u001b[38;5;28;01mif\u001b[39;00m sfreq \u001b[38;5;241m<\u001b[39m\u001b[38;5;241m=\u001b[39m \u001b[38;5;241m0\u001b[39m:\n",
      "File \u001b[0;32m~/Dropbox/Sinha/Lab/Research/ieeg_atlas_harmonization/.venv/lib/python3.13/site-packages/mne/utils/check.py:641\u001b[0m, in \u001b[0;36m_validate_type\u001b[0;34m(item, types, item_name, type_name, extra)\u001b[0m\n\u001b[1;32m    639\u001b[0m         type_name \u001b[38;5;241m=\u001b[39m \u001b[38;5;124m\"\u001b[39m\u001b[38;5;124m, \u001b[39m\u001b[38;5;124m\"\u001b[39m\u001b[38;5;241m.\u001b[39mjoin(type_name)\n\u001b[1;32m    640\u001b[0m _item_name \u001b[38;5;241m=\u001b[39m \u001b[38;5;124m\"\u001b[39m\u001b[38;5;124mItem\u001b[39m\u001b[38;5;124m\"\u001b[39m \u001b[38;5;28;01mif\u001b[39;00m item_name \u001b[38;5;129;01mis\u001b[39;00m \u001b[38;5;28;01mNone\u001b[39;00m \u001b[38;5;28;01melse\u001b[39;00m item_name\n\u001b[0;32m--> 641\u001b[0m \u001b[38;5;28;01mraise\u001b[39;00m \u001b[38;5;167;01mTypeError\u001b[39;00m(\n\u001b[1;32m    642\u001b[0m     \u001b[38;5;124mf\u001b[39m\u001b[38;5;124m\"\u001b[39m\u001b[38;5;132;01m{\u001b[39;00m_item_name\u001b[38;5;132;01m}\u001b[39;00m\u001b[38;5;124m must be an instance of \u001b[39m\u001b[38;5;132;01m{\u001b[39;00mtype_name\u001b[38;5;132;01m}\u001b[39;00m\u001b[38;5;132;01m{\u001b[39;00mextra\u001b[38;5;132;01m}\u001b[39;00m\u001b[38;5;124m, \u001b[39m\u001b[38;5;124m\"\u001b[39m\n\u001b[1;32m    643\u001b[0m     \u001b[38;5;124mf\u001b[39m\u001b[38;5;124m\"\u001b[39m\u001b[38;5;124mgot \u001b[39m\u001b[38;5;132;01m{\u001b[39;00m\u001b[38;5;28mtype\u001b[39m(item)\u001b[38;5;132;01m}\u001b[39;00m\u001b[38;5;124m instead.\u001b[39m\u001b[38;5;124m\"\u001b[39m\n\u001b[1;32m    644\u001b[0m )\n",
      "\u001b[0;31mTypeError\u001b[0m: ch_names must be an instance of list, tuple, or int, got <class 'pandas.core.indexes.base.Index'> instead."
     ]
    }
   ],
   "source": [
    "\n",
    "# load data in or read edf files\n",
    "key = '15'\n",
    "e = int(key)-1\n",
    "plot_pred = True\n",
    "module = 'sparcnet-update'\n",
    "add_1st = False\n",
    "data = eeg.values\n",
    "labels = eeg.columns\n",
    "fs = 200\n",
    "valid_index = np.all(~np.isnan(data),axis=1)\n",
    "data[~valid_index,:] = 0\n",
    "\n",
    "# use mne to plot the data\n",
    "info = mne.create_info(ch_names=labels, sfreq=fs, ch_types=['eeg'] * len(labels))\n",
    "raw = mne.io.RawArray(data.T, info)  # Note: data needs to be transposed\n",
    "raw.plot(show=True)\n"
   ]
  },
  {
   "cell_type": "code",
   "execution_count": null,
   "metadata": {},
   "outputs": [],
   "source": [
    "\n",
    "# create mne object, filter and set montage\n",
    "info = mne.create_info(ch_names = old_ch_labels, sfreq = fs, ch_types = 'eeg')\n",
    "raw = mne.io.RawArray(data.T*1e-6, info)\n",
    "# raw.resample(256)\n",
    "raw.filter(1., 40., method='iir',iir_params=dict(order=4, ftype='butter', output='sos'))\n",
    "raw.notch_filter(freqs=[60],method='iir',iir_params=dict(order=4, ftype='butter', output='sos'))\n",
    "montage = mne.channels.make_standard_montage('standard_1020')\n",
    "raw.set_montage(montage)\n",
    "raw = mne.set_bipolar_reference(raw,['Fp1','F7','T3','T5','Fp2','F8','T4','T6',\n",
    "                    'Fp1','F3','C3','P3','Fp2','F4','C4','P4','Fz'],['F7','T3','T5','O1','F8','T4','T6','O2',\n",
    "                    'F3','C3','P3','O1','F4','C4','P4','O1','Cz'])\n",
    "\n",
    "# get start and duration of each event\n",
    "sz_range = extract_seiz_ranges(labels)\n",
    "sz_starts = np.array([a[0]/fs for a in sz_range])\n",
    "sz_dura = np.array([(a[1]-a[0])/fs for a in sz_range])\n",
    "sz_text = ['SS_Sz']*len(sz_starts)\n",
    "# set annotations object\n",
    "annotations = mne.Annotations(onset=np.concatenate([sz_starts]), duration=np.concatenate([sz_dura]), description=sz_text)\n",
    "\n",
    "\n",
    "# Add annotations to raw object\n",
    "raw.set_annotations(annotations)\n",
    "\n",
    "raw.plot(title=key)"
   ]
  }
 ],
 "metadata": {
  "kernelspec": {
   "display_name": ".venv",
   "language": "python",
   "name": "python3"
  },
  "language_info": {
   "codemirror_mode": {
    "name": "ipython",
    "version": 3
   },
   "file_extension": ".py",
   "mimetype": "text/x-python",
   "name": "python",
   "nbconvert_exporter": "python",
   "pygments_lexer": "ipython3",
   "version": "3.13.1"
  }
 },
 "nbformat": 4,
 "nbformat_minor": 2
}
