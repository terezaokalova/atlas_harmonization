{
 "cells": [
  {
   "cell_type": "code",
   "execution_count": 1,
   "metadata": {},
   "outputs": [],
   "source": [
    "# Global configurations and imports\n",
    "import os\n",
    "import pandas as pd\n",
    "import numpy as np\n",
    "import scipy.io as sio\n",
    "from matplotlib import pyplot as plt\n",
    "from nilearn import plotting as niplot"
   ]
  },
  {
   "cell_type": "code",
   "execution_count": 2,
   "metadata": {},
   "outputs": [],
   "source": [
    "code_directory = '/Users/tereza/nishant/atlas/atlas_work_terez/atlas_harmonization/code'\n",
    "os.chdir(code_directory)  # Set working directory to code directory\n",
    "\n",
    "# Paths to Data and Results folders\n",
    "base_path_results = '../results'\n",
    "base_path_data = '../Data'\n",
    "\n",
    "# Paths to data files\n",
    "desikan_killiany = os.path.abspath(os.path.join(base_path_data, 'aparc+aseg.nii.gz'))\n",
    "atlas_LUT = os.path.abspath(os.path.join(base_path_data, 'desikanKilliany.csv'))\n",
    "\n",
    "# Ensure the files exist\n",
    "assert os.path.exists(desikan_killiany), f\"Atlas file not found: {desikan_killiany}\"\n",
    "assert os.path.exists(atlas_LUT), f\"LUT file not found: {atlas_LUT}\""
   ]
  },
  {
   "cell_type": "code",
   "execution_count": null,
   "metadata": {},
   "outputs": [
    {
     "name": "stdout",
     "output_type": "stream",
     "text": [
      "Using atlas path: /Users/tereza/nishant/atlas/atlas_work_terez/atlas_harmonization/Data/aparc+aseg.nii.gz\n",
      "Using LUT path: /Users/tereza/nishant/atlas/atlas_work_terez/atlas_harmonization/Data/desikanKilliany.csv\n",
      "Concatenated DataFrame saved to ../results/hup_atlas_with_roiNum.csv\n"
     ]
    },
    {
     "ename": "NameError",
     "evalue": "name 'results' is not defined",
     "output_type": "error",
     "traceback": [
      "\u001b[0;31m---------------------------------------------------------------------------\u001b[0m",
      "\u001b[0;31mNameError\u001b[0m                                 Traceback (most recent call last)",
      "Cell \u001b[0;32mIn[3], line 56\u001b[0m\n\u001b[1;32m     54\u001b[0m \u001b[38;5;66;03m# Assuming 'results' dictionary exists with necessary data\u001b[39;00m\n\u001b[1;32m     55\u001b[0m auc_data \u001b[38;5;241m=\u001b[39m []\n\u001b[0;32m---> 56\u001b[0m \u001b[38;5;28;01mfor\u001b[39;00m region_name, features \u001b[38;5;129;01min\u001b[39;00m \u001b[43mresults\u001b[49m\u001b[38;5;241m.\u001b[39mitems():\n\u001b[1;32m     57\u001b[0m     roi_num \u001b[38;5;241m=\u001b[39m region_to_roiNum\u001b[38;5;241m.\u001b[39mget(region_name)\n\u001b[1;32m     58\u001b[0m     \u001b[38;5;28;01mif\u001b[39;00m roi_num \u001b[38;5;129;01mis\u001b[39;00m \u001b[38;5;129;01mnot\u001b[39;00m \u001b[38;5;28;01mNone\u001b[39;00m:\n",
      "\u001b[0;31mNameError\u001b[0m: name 'results' is not defined"
     ]
    }
   ],
   "source": [
    "# Function to simplify labels\n",
    "def simplify_label(label):\n",
    "    if \"Rel\" in label:\n",
    "        return label.split(\"Rel\")[0]  # Simplifies 'deltaRel_mean' to 'delta'\n",
    "    return label\n",
    "\n",
    "# Function to get node coordinates from atlas\n",
    "def get_node_coords(atlas, atlas_LUT):\n",
    "    coords, labels = niplot.find_parcellation_cut_coords(atlas, return_label_names=True)\n",
    "    labels = np.array(labels, dtype=np.int64)\n",
    "    \n",
    "    atlas_coord = pd.DataFrame({\n",
    "        'roiNum': labels,\n",
    "        'mni_x': coords[:, 0], \n",
    "        'mni_y': coords[:, 1], \n",
    "        'mni_z': coords[:, 2]\n",
    "    })\n",
    "    \n",
    "    atlas_LUT_df = pd.read_csv(atlas_LUT)\n",
    "    atlas_coord = pd.merge(atlas_LUT_df, atlas_coord, on='roiNum', how='inner')\n",
    "    atlas_coord.to_csv(os.path.join(base_path_results, 'atlas_coord.csv'), index=False)\n",
    "    return atlas_coord\n",
    "\n",
    "# Load and process data\n",
    "print(f\"Using atlas path: {desikan_killiany}\")\n",
    "print(f\"Using LUT path: {atlas_LUT}\")\n",
    "atlas_coord = get_node_coords(atlas=desikan_killiany, atlas_LUT=atlas_LUT)\n",
    "\n",
    "# Interactive Visualization with simplified labels\n",
    "atlas_coord['simplified_abvr'] = atlas_coord['abvr'].apply(simplify_label)\n",
    "view = niplot.view_markers(\n",
    "    atlas_coord[['mni_x', 'mni_y', 'mni_z']],  # Coordinates\n",
    "    marker_color='red',\n",
    "    marker_size=10,\n",
    "    marker_labels=atlas_coord['simplified_abvr'].tolist()  # Simplified region abbreviations\n",
    ")\n",
    "view.open_in_browser()  # Launch interactive visualization\n",
    "\n",
    "# Example of loading additional data and merging\n",
    "hup_atlas = sio.loadmat(os.path.join(base_path_data, 'HUP_atlas.mat'))\n",
    "hup_df = pd.read_csv(os.path.join(base_path_data, 'hup_df.csv'))\n",
    "\n",
    "# Handling of mni_coords\n",
    "mni_coords = hup_atlas['mni_coords']\n",
    "if len(mni_coords.shape) > 2:\n",
    "    mni_coords = mni_coords.reshape(-1, 3)\n",
    "\n",
    "mni_coords_df = pd.DataFrame(mni_coords, columns=['mni_x', 'mni_y', 'mni_z'])\n",
    "hup_atlas_with_roiNum = pd.concat([mni_coords_df, hup_df.reset_index(drop=True)], axis=1)\n",
    "output_path = os.path.join(base_path_results, 'hup_atlas_with_roiNum.csv')\n",
    "hup_atlas_with_roiNum.to_csv(output_path, index=False)\n",
    "print(f\"Concatenated DataFrame saved to {output_path}\")\n",
    "\n",
    "auc_data = []\n",
    "for region_name, features in results.items():\n",
    "    roi_num = region_to_roiNum.get(region_name)\n",
    "    if roi_num is not None:\n",
    "        auc_value = features.get('deltaRel_mean', {}).get('AUC', None)\n",
    "        if auc_value is not None:\n",
    "            auc_data.append({'roiNum': roi_num, 'AUC': auc_value})\n",
    "\n",
    "auc_df = pd.DataFrame(auc_data)\n",
    "print(\"AUC DataFrame:\", auc_df.head())\n",
    "\n",
    "# Merging and Visualization continued...\n"
   ]
  }
 ],
 "metadata": {
  "kernelspec": {
   "display_name": "cnt_gen",
   "language": "python",
   "name": "python3"
  },
  "language_info": {
   "codemirror_mode": {
    "name": "ipython",
    "version": 3
   },
   "file_extension": ".py",
   "mimetype": "text/x-python",
   "name": "python",
   "nbconvert_exporter": "python",
   "pygments_lexer": "ipython3",
   "version": "3.12.4"
  }
 },
 "nbformat": 4,
 "nbformat_minor": 2
}
