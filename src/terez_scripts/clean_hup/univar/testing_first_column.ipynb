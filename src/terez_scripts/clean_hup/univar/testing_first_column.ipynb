{
 "cells": [
  {
   "cell_type": "code",
   "execution_count": 3,
   "metadata": {},
   "outputs": [
    {
     "ename": "ModuleNotFoundError",
     "evalue": "No module named 'clean_hup_data_loading'",
     "output_type": "error",
     "traceback": [
      "\u001b[0;31m---------------------------------------------------------------------------\u001b[0m",
      "\u001b[0;31mModuleNotFoundError\u001b[0m                       Traceback (most recent call last)",
      "Cell \u001b[0;32mIn[3], line 9\u001b[0m\n\u001b[1;32m      5\u001b[0m \u001b[38;5;28;01mimport\u001b[39;00m \u001b[38;5;21;01mlogging\u001b[39;00m\n\u001b[1;32m      7\u001b[0m \u001b[38;5;66;03m# Import the helper functions from your pipeline.\u001b[39;00m\n\u001b[1;32m      8\u001b[0m \u001b[38;5;66;03m# Adjust the import path if needed.\u001b[39;00m\n\u001b[0;32m----> 9\u001b[0m \u001b[38;5;28;01mfrom\u001b[39;00m \u001b[38;5;21;01mclean_hup_data_loading\u001b[39;00m \u001b[38;5;28;01mimport\u001b[39;00m get_clean_hup_file_paths, load_epoch\n\u001b[1;32m     10\u001b[0m \u001b[38;5;28;01mfrom\u001b[39;00m \u001b[38;5;21;01mclean_hup_feature_extraction\u001b[39;00m \u001b[38;5;28;01mimport\u001b[39;00m FeatureExtractor\n\u001b[1;32m     12\u001b[0m logging\u001b[38;5;241m.\u001b[39mbasicConfig(level\u001b[38;5;241m=\u001b[39mlogging\u001b[38;5;241m.\u001b[39mINFO)\n",
      "\u001b[0;31mModuleNotFoundError\u001b[0m: No module named 'clean_hup_data_loading'"
     ]
    }
   ],
   "source": [
    "# %% [code]\n",
    "import os\n",
    "import numpy as np\n",
    "import pandas as pd\n",
    "import logging\n",
    "\n",
    "# Import the helper functions from your pipeline.\n",
    "# Adjust the import path if needed.\n",
    "from clean_hup_data_loading import get_clean_hup_file_paths, load_epoch\n",
    "from clean_hup_feature_extraction import FeatureExtractor\n",
    "\n",
    "logging.basicConfig(level=logging.INFO)\n",
    "logger = logging.getLogger(__name__)\n",
    "\n",
    "# %% [code]\n",
    "# Define your configuration dictionary (make sure this matches your pipeline)\n",
    "config = {\n",
    "    'preprocessing': {\n",
    "        'sampling_frequency': 200\n",
    "    },\n",
    "    'features': {\n",
    "        'spectral': {\n",
    "            'bands': {\n",
    "                'delta': [0.5, 4],\n",
    "                'theta': [4, 8],\n",
    "                'alpha': [8, 12],\n",
    "                'beta': [12, 30],\n",
    "                'gamma': [30, 80]\n",
    "            }\n",
    "        }\n",
    "    }\n",
    "}\n",
    "\n",
    "# Set the base path to your clean data and choose one subject\n",
    "base_path = \"/Users/tereza/nishant/atlas/atlas_work_terez/atlas_harmonization/Data/hup/derivatives/clean\"\n",
    "subject = \"sub-RID0031\"\n",
    "\n",
    "# Load a single epoch for the chosen subject; here we load epoch 1\n",
    "epoch_df = load_epoch(subject, 1)\n",
    "\n",
    "# Inspect the loaded DataFrame – check metadata and the 'data' column\n",
    "print(\"Loaded epoch DataFrame:\")\n",
    "print(epoch_df.head())\n",
    "print(\"DataFrame shape:\", epoch_df.shape)\n",
    "\n",
    "# %% [code]\n",
    "# Instantiate the FeatureExtractor using the configuration.\n",
    "fe = FeatureExtractor(config)\n",
    "\n",
    "# Extract features from this single epoch.\n",
    "features_df = fe.extract_features_from_epoch(epoch_df)\n",
    "\n",
    "# Inspect the resulting DataFrame.\n",
    "print(\"Extracted features DataFrame:\")\n",
    "print(features_df.head())\n",
    "features_df.info()\n"
   ]
  }
 ],
 "metadata": {
  "kernelspec": {
   "display_name": "cnt_gen",
   "language": "python",
   "name": "python3"
  },
  "language_info": {
   "codemirror_mode": {
    "name": "ipython",
    "version": 3
   },
   "file_extension": ".py",
   "mimetype": "text/x-python",
   "name": "python",
   "nbconvert_exporter": "python",
   "pygments_lexer": "ipython3",
   "version": "3.12.4"
  }
 },
 "nbformat": 4,
 "nbformat_minor": 2
}
