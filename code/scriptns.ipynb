{
 "cells": [
  {
   "cell_type": "code",
   "execution_count": 2,
   "metadata": {},
   "outputs": [],
   "source": [
    "import nibabel as nib\n",
    "from nibabel.affines import apply_affine\n",
    "import numpy as np\n",
    "import os\n",
    "import pandas as pd\n",
    "import plotly.express as px\n",
    "import plotly.graph_objects as go\n",
    "import scipy.io as sio\n",
    "from scipy.spatial import distance"
   ]
  },
  {
   "cell_type": "markdown",
   "metadata": {},
   "source": [
    "### Load Brain Atlas Data and Metadata\n",
    "\n",
    "Loads the brain atlas NIfTI image and its metadata, along with the ROI lookup table (LUT) for region labels.\n",
    "\n",
    "- **Steps**:\n",
    "  1. Load the atlas image (`aparc+aseg.nii.gz`) with `nibabel`.\n",
    "  2. Extract the header and affine matrix for metadata and spatial transformations.\n",
    "  3. Convert the atlas data to a NumPy array for manipulation.\n",
    "  4. Load the `desikanKilliany.csv` file as `atlasLUT` for ROI information.\n",
    "\n",
    "- **Output**: `dkatlas` (NIfTI image), `hdr` (header), `affine` (transformation matrix), `data` (array), `atlasLUT` (ROI lookup table)."
   ]
  },
  {
   "cell_type": "code",
   "execution_count": 3,
   "metadata": {},
   "outputs": [
    {
     "ename": "FileNotFoundError",
     "evalue": "No such file or no access: '../Data/aparc+aseg.nii.gz'",
     "output_type": "error",
     "traceback": [
      "\u001b[0;31m---------------------------------------------------------------------------\u001b[0m",
      "\u001b[0;31mFileNotFoundError\u001b[0m                         Traceback (most recent call last)",
      "File \u001b[0;32m~/anaconda3/envs/cnt_gen/lib/python3.12/site-packages/nibabel/loadsave.py:100\u001b[0m, in \u001b[0;36mload\u001b[0;34m(filename, **kwargs)\u001b[0m\n\u001b[1;32m     99\u001b[0m \u001b[38;5;28;01mtry\u001b[39;00m:\n\u001b[0;32m--> 100\u001b[0m     stat_result \u001b[38;5;241m=\u001b[39m \u001b[43mos\u001b[49m\u001b[38;5;241;43m.\u001b[39;49m\u001b[43mstat\u001b[49m\u001b[43m(\u001b[49m\u001b[43mfilename\u001b[49m\u001b[43m)\u001b[49m\n\u001b[1;32m    101\u001b[0m \u001b[38;5;28;01mexcept\u001b[39;00m \u001b[38;5;167;01mOSError\u001b[39;00m:\n",
      "\u001b[0;31mFileNotFoundError\u001b[0m: [Errno 2] No such file or directory: '../Data/aparc+aseg.nii.gz'",
      "\nDuring handling of the above exception, another exception occurred:\n",
      "\u001b[0;31mFileNotFoundError\u001b[0m                         Traceback (most recent call last)",
      "Cell \u001b[0;32mIn[3], line 1\u001b[0m\n\u001b[0;32m----> 1\u001b[0m dkatlas \u001b[38;5;241m=\u001b[39m \u001b[43mnib\u001b[49m\u001b[38;5;241;43m.\u001b[39;49m\u001b[43mload\u001b[49m\u001b[43m(\u001b[49m\u001b[38;5;124;43m'\u001b[39;49m\u001b[38;5;124;43m../Data/aparc+aseg.nii.gz\u001b[39;49m\u001b[38;5;124;43m'\u001b[39;49m\u001b[43m)\u001b[49m\n\u001b[1;32m      2\u001b[0m hdr \u001b[38;5;241m=\u001b[39m dkatlas\u001b[38;5;241m.\u001b[39mheader\n\u001b[1;32m      3\u001b[0m affine \u001b[38;5;241m=\u001b[39m dkatlas\u001b[38;5;241m.\u001b[39maffine\n",
      "File \u001b[0;32m~/anaconda3/envs/cnt_gen/lib/python3.12/site-packages/nibabel/loadsave.py:102\u001b[0m, in \u001b[0;36mload\u001b[0;34m(filename, **kwargs)\u001b[0m\n\u001b[1;32m    100\u001b[0m     stat_result \u001b[38;5;241m=\u001b[39m os\u001b[38;5;241m.\u001b[39mstat(filename)\n\u001b[1;32m    101\u001b[0m \u001b[38;5;28;01mexcept\u001b[39;00m \u001b[38;5;167;01mOSError\u001b[39;00m:\n\u001b[0;32m--> 102\u001b[0m     \u001b[38;5;28;01mraise\u001b[39;00m \u001b[38;5;167;01mFileNotFoundError\u001b[39;00m(\u001b[38;5;124mf\u001b[39m\u001b[38;5;124m\"\u001b[39m\u001b[38;5;124mNo such file or no access: \u001b[39m\u001b[38;5;124m'\u001b[39m\u001b[38;5;132;01m{\u001b[39;00mfilename\u001b[38;5;132;01m}\u001b[39;00m\u001b[38;5;124m'\u001b[39m\u001b[38;5;124m\"\u001b[39m)\n\u001b[1;32m    103\u001b[0m \u001b[38;5;28;01mif\u001b[39;00m stat_result\u001b[38;5;241m.\u001b[39mst_size \u001b[38;5;241m<\u001b[39m\u001b[38;5;241m=\u001b[39m \u001b[38;5;241m0\u001b[39m:\n\u001b[1;32m    104\u001b[0m     \u001b[38;5;28;01mraise\u001b[39;00m ImageFileError(\u001b[38;5;124mf\u001b[39m\u001b[38;5;124m\"\u001b[39m\u001b[38;5;124mEmpty file: \u001b[39m\u001b[38;5;124m'\u001b[39m\u001b[38;5;132;01m{\u001b[39;00mfilename\u001b[38;5;132;01m}\u001b[39;00m\u001b[38;5;124m'\u001b[39m\u001b[38;5;124m\"\u001b[39m)\n",
      "\u001b[0;31mFileNotFoundError\u001b[0m: No such file or no access: '../Data/aparc+aseg.nii.gz'"
     ]
    }
   ],
   "source": [
    "dkatlas = nib.load('../Data/aparc+aseg.nii.gz')\n",
    "hdr = dkatlas.header\n",
    "affine = dkatlas.affine\n",
    "data = np.asarray(dkatlas.dataobj)\n",
    "atlasLUT = pd.read_csv('../Data/desikanKilliany.csv')"
   ]
  },
  {
   "cell_type": "markdown",
   "metadata": {},
   "source": [
    "### Extract and Map ROI Coordinates\n",
    "\n",
    "This block extracts ROI voxel coordinates, transforms them to real-world space using the affine matrix, and maps them with labels and colors from `atlasLUT`.\n",
    "\n",
    "- **Steps**:\n",
    "  1. Extract voxel coordinates of ROIs using `np.where`.\n",
    "  2. Apply affine transformation for real-world (RASmm) coordinates.\n",
    "  3. Create a DataFrame with coordinates and map ROI labels via `atlasLUT`.\n",
    "\n",
    "- **Output**: `dkatlas_coords` DataFrame with `x`, `y`, `z` coordinates, ROI numbers, labels, and colors."
   ]
  },
  {
   "cell_type": "code",
   "execution_count": null,
   "metadata": {},
   "outputs": [],
   "source": [
    "# Get the coordinates of all roi values in data\n",
    "coords = np.column_stack(np.where(np.isin(data, atlasLUT.roiNum)))\n",
    "\n",
    "# Apply the affine transformation to voxel coordinates\n",
    "RASmm = apply_affine(affine, coords)\n",
    "\n",
    "# Create a DataFrame from the transformed coordinates\n",
    "dkatlas_coords = pd.DataFrame(RASmm, columns=['x', 'y', 'z'])\n",
    "\n",
    "# Map the roi values to the coordinates\n",
    "dkatlas_coords['roiNum'] = data[coords[:, 0], coords[:, 1], coords[:, 2]]\n",
    "\n",
    "# Assign color to each ROI by matching the roiNum to the LUT\n",
    "dkatlas_coords = dkatlas_coords.merge(atlasLUT, on='roiNum', how='left')"
   ]
  },
  {
   "cell_type": "markdown",
   "metadata": {},
   "source": [
    "### 3D Scatter Plot of ROI Coordinates\n",
    "\n",
    "Creates an interactive 3D scatter plot of the atlas coordinates with ROIs color-coded.\n",
    "\n",
    "- **Steps**:\n",
    "  1. Use `plotly.express.scatter_3d` to plot `dkatlas_coords` DataFrame.\n",
    "  2. Set `x`, `y`, and `z` for coordinates and color points by `roi` for easy visualization of different regions.\n",
    "\n",
    "- **Output**: An interactive 3D plot displaying ROI positions."
   ]
  },
  {
   "cell_type": "code",
   "execution_count": null,
   "metadata": {},
   "outputs": [],
   "source": [
    "fig = px.scatter_3d(dkatlas_coords, x='x', y='y', z='z', color='roi')\n",
    "fig.show()"
   ]
  },
  {
   "cell_type": "markdown",
   "metadata": {},
   "source": [
    "### Add MNI Atlas Channel Positions to 3D Plot\n",
    "\n",
    "Loads MNI atlas channel coordinates and adds them as markers to an existing 3D plot.\n",
    "\n",
    "- **Steps**:\n",
    "  1. Load `MNI_atlas.mat` and convert `ChannelPosition` to `mni_df` DataFrame with `x`, `y`, and `z` columns.\n",
    "  2. Add a new 3D scatter trace to `fig` for MNI channel positions, with customized marker size and color for distinction.\n",
    "  3. Display the updated plot with both atlas coordinates and MNI channel positions.\n",
    "\n",
    "- **Output**: A combined interactive 3D plot showing both ROI and MNI channel positions."
   ]
  },
  {
   "cell_type": "code",
   "execution_count": null,
   "metadata": {},
   "outputs": [],
   "source": [
    "mni_atlas = sio.loadmat('../Data/MNI_atlas.mat')\n",
    "mni_df = pd.DataFrame(mni_atlas['ChannelPosition'], columns=['x', 'y', 'z'])"
   ]
  },
  {
   "cell_type": "code",
   "execution_count": null,
   "metadata": {},
   "outputs": [],
   "source": [
    "fig.add_trace(go.Scatter3d(\n",
    "    x=mni_df['x'],\n",
    "    y=mni_df['y'],\n",
    "    z=mni_df['z'],\n",
    "    mode='markers',\n",
    "    marker=dict(size=5, color='black'),  # Customize size and color for distinction\n",
    "    name='Electrodes'\n",
    "))\n",
    "\n",
    "# Show the combined plot\n",
    "fig.show()"
   ]
  },
  {
   "cell_type": "markdown",
   "metadata": {},
   "source": [
    "### Add HUP Atlas Channel Positions to 3D Plot\n",
    "\n",
    "Loads HUP atlas channel coordinates and adds them as markers to an existing 3D plot.\n",
    "\n",
    "- **Steps**:\n",
    "  1. Load `HUP_atlas.mat` and convert `mni_coords` to `hup_df` DataFrame with `x`, `y`, and `z` columns.\n",
    "  2. Add a new 3D scatter trace to `fig` for HUP channel positions, using a distinct marker size and color for visual separation.\n",
    "  3. Display the updated plot with atlas coordinates, MNI, and HUP channel positions.\n",
    "\n",
    "- **Output**: A combined interactive 3D plot showing ROI, MNI, and HUP channel positions.\n"
   ]
  },
  {
   "cell_type": "code",
   "execution_count": null,
   "metadata": {},
   "outputs": [],
   "source": [
    "hup_atlas = sio.loadmat('../Data/HUP_atlas.mat')\n",
    "hup_df = pd.DataFrame(hup_atlas['mni_coords'], columns=['x', 'y', 'z'])"
   ]
  },
  {
   "cell_type": "code",
   "execution_count": null,
   "metadata": {},
   "outputs": [],
   "source": [
    "fig.add_trace(go.Scatter3d(\n",
    "    x=hup_df['x'],\n",
    "    y=hup_df['y'],\n",
    "    z=hup_df['z'],\n",
    "    mode='markers',\n",
    "    marker=dict(size=5, color='white'),  # Customize size and color for distinction\n",
    "    name='Electrodes'\n",
    "))\n",
    "\n",
    "# Show the combined plot\n",
    "fig.show()"
   ]
  },
  {
   "cell_type": "markdown",
   "metadata": {},
   "source": [
    "### Localize Coordinates to Closest ROI\n",
    "\n",
    "Calculates the closest ROI for each electrode based on Euclidean distance and appends the closest ROI information to electrode coordinates.\n",
    "\n",
    "- **Steps**:\n",
    "  1. **Distance Calculation**: Compute pairwise Euclidean distances (`mni_dist`) between each ROI in `dkatlas_coords` and each electrode in `mni_df`.\n",
    "  2. **Identify Closest ROIs**: Use `argmin` on `mni_dist` to find the closest ROI for each electrode based on the minimum distance.\n",
    "  3. **Filter and Join**: Extract the closest ROI information, drop irrelevant columns, and reset the index for a clean DataFrame.\n",
    "  4. **Merge**: Append the closest ROI information to `mni_df` for each electrode.\n",
    "\n",
    "- **Output**: `mni_df` with added columns indicating the nearest ROI to each electrode.\n"
   ]
  },
  {
   "cell_type": "code",
   "execution_count": null,
   "metadata": {},
   "outputs": [],
   "source": [
    "mni_dist = distance.cdist(dkatlas_coords.loc[:, ['x','y','z']], mni_df, 'euclidean')"
   ]
  },
  {
   "cell_type": "code",
   "execution_count": null,
   "metadata": {},
   "outputs": [],
   "source": [
    "# where is the index of np min across the coloums of mni_dist where the min value is\n",
    "index_mni_closest_ROI = mni_dist.argmin(axis=0)"
   ]
  },
  {
   "cell_type": "code",
   "execution_count": null,
   "metadata": {},
   "outputs": [],
   "source": [
    "# get the closest ROI to each electrode\n",
    "closest_ROI_hup = dkatlas_coords.iloc[index_mni_closest_ROI,:].copy()\n",
    "closest_ROI_hup.drop(columns=['x', 'y' , 'z', 'roi', 'cmap_R', 'cmap_G', 'cmap_B'], inplace=True)\n",
    "closest_ROI_hup.reset_index(drop=True, inplace=True)\n",
    "mni_df = pd.DataFrame.join(mni_df, closest_ROI_hup)"
   ]
  },
  {
   "cell_type": "markdown",
   "metadata": {},
   "source": [
    "### Associate Each HUP Electrode with its Closest ROI\n",
    "\n",
    "Calculates and associates the closest ROI for each HUP electrode based on spatial distance, then appends this ROI information to `hup_df`.\n",
    "\n",
    "- **Steps**:\n",
    "  1. **Compute Distances**: Use `distance.cdist` to find the Euclidean distance between all ROIs in `dkatlas_coords` and each electrode in `hup_df`.\n",
    "  2. **Identify Closest ROIs**: Obtain the index of the closest ROI for each electrode by using `argmin` on `hup_dist`.\n",
    "  3. **Extract ROI Data**: Retrieve the relevant ROI data using `index_hup_closest_ROI`, and clean up by removing irrelevant columns (`x`, `y`, `z`, `roi`, `cmap_R`, `cmap_G`, `cmap_B`).\n",
    "  4. **Merge**: Append the ROI information to `hup_df`, providing each electrode with its nearest ROI details.\n",
    "\n",
    "- **Output**: `hup_df` with appended columns that describe the nearest ROI for each electrode.\n"
   ]
  },
  {
   "cell_type": "code",
   "execution_count": null,
   "metadata": {},
   "outputs": [],
   "source": [
    "hup_dist = distance.cdist(dkatlas_coords.loc[:, ['x','y','z']], hup_df, 'euclidean')"
   ]
  },
  {
   "cell_type": "code",
   "execution_count": null,
   "metadata": {},
   "outputs": [],
   "source": [
    "index_hup_closest_ROI = hup_dist.argmin(axis=0)"
   ]
  },
  {
   "cell_type": "code",
   "execution_count": null,
   "metadata": {},
   "outputs": [],
   "source": [
    "# get the closest ROI to each electrode\n",
    "closest_ROI_hup = dkatlas_coords.iloc[index_hup_closest_ROI,:].copy()\n",
    "closest_ROI_hup.drop(columns=['x', 'y' , 'z', 'roi', 'cmap_R', 'cmap_G', 'cmap_B'], inplace=True)\n",
    "closest_ROI_hup.reset_index(drop=True, inplace=True)\n",
    "hup_df = pd.DataFrame.join(hup_df, closest_ROI_hup)"
   ]
  },
  {
   "cell_type": "code",
   "execution_count": null,
   "metadata": {},
   "outputs": [],
   "source": [
    "# pickle hup_df and mni_df\n",
    "hup_df.to_pickle('../Data/hup_df.pkl')\n",
    "mni_df.to_pickle('../Data/mni_df.pkl')"
   ]
  }
 ],
 "metadata": {
  "kernelspec": {
   "display_name": "cnt_gen",
   "language": "python",
   "name": "python3"
  },
  "language_info": {
   "codemirror_mode": {
    "name": "ipython",
    "version": 3
   },
   "file_extension": ".py",
   "mimetype": "text/x-python",
   "name": "python",
   "nbconvert_exporter": "python",
   "pygments_lexer": "ipython3",
   "version": "3.12.4"
  }
 },
 "nbformat": 4,
 "nbformat_minor": 2
}
