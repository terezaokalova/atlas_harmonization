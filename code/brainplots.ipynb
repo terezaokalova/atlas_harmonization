{
 "cells": [
  {
   "cell_type": "code",
   "execution_count": 1,
   "metadata": {},
   "outputs": [],
   "source": [
    "import numpy as np\n",
    "import os\n",
    "import pandas as pd\n",
    "from nilearn import plotting, datasets\n",
    "import scipy.io as sio\n",
    "\n",
    "import mayavi"
   ]
  },
  {
   "cell_type": "code",
   "execution_count": null,
   "metadata": {},
   "outputs": [],
   "source": [
    "mni_atlas = sio.loadmat('../Data/MNI_atlas.mat')\n",
    "mni_df = pd.DataFrame(mni_atlas['ChannelPosition'], columns=['x', 'y', 'z'])\n",
    "mni_df"
   ]
  },
  {
   "cell_type": "markdown",
   "metadata": {},
   "source": [
    "# Brain plot with nilearn"
   ]
  },
  {
   "cell_type": "code",
   "execution_count": 4,
   "metadata": {},
   "outputs": [],
   "source": [
    "destrieux = datasets.fetch_atlas_surf_destrieux()\n",
    "fsaverage = datasets.fetch_surf_fsaverage()"
   ]
  },
  {
   "cell_type": "code",
   "execution_count": 5,
   "metadata": {},
   "outputs": [],
   "source": [
    "view = plotting.view_markers(mni_df, marker_color='red', marker_size=5)\n",
    "view.open_in_browser()"
   ]
  },
  {
   "cell_type": "markdown",
   "metadata": {},
   "source": [
    "# Brain plot with PyVista"
   ]
  },
  {
   "cell_type": "code",
   "execution_count": 6,
   "metadata": {},
   "outputs": [],
   "source": [
    "# must have this here as our global backend may not be static\n",
    "import pyvista\n",
    "pyvista.set_plot_theme('document')\n",
    "pyvista.set_jupyter_backend('static')\n",
    "pyvista.global_theme.window_size = [600, 400]\n",
    "pyvista.global_theme.axes.show = False\n",
    "pyvista.global_theme.anti_aliasing = 'fxaa'\n",
    "pyvista.global_theme.show_scalar_bar = False"
   ]
  },
  {
   "cell_type": "code",
   "execution_count": null,
   "metadata": {},
   "outputs": [],
   "source": [
    "import numpy as np\n",
    "import pyvista as pv\n",
    "\n",
    "points = mni_df.to_numpy()\n",
    "\n",
    "mesh = pv.PolyData(points)\n",
    "mesh.plot(point_size=5, style='points')\n"
   ]
  },
  {
   "cell_type": "code",
   "execution_count": null,
   "metadata": {},
   "outputs": [],
   "source": [
    "pl = pv.Plotter()\n",
    "pl.add_mesh(mesh, show_edges=True, color='white')\n",
    "pl.add_points(mesh.points, color='red',\n",
    "              point_size=5)\n",
    "pl.camera_position = [(0.02, 0.30, 0.73),\n",
    "                      (0.02, 0.03, -0.022),\n",
    "                      (-0.03, 0.94, -0.34)]\n",
    "pl.show()"
   ]
  },
  {
   "cell_type": "code",
   "execution_count": null,
   "metadata": {},
   "outputs": [],
   "source": []
  }
 ],
 "metadata": {
  "language_info": {
   "name": "python"
  }
 },
 "nbformat": 4,
 "nbformat_minor": 2
}
