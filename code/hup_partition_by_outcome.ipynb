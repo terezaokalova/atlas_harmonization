{
 "cells": [
  {
   "cell_type": "code",
   "execution_count": 8,
   "metadata": {},
   "outputs": [],
   "source": [
    "import pandas as pd\n",
    "import numpy as np\n",
    "import scipy.io as sio"
   ]
  },
  {
   "cell_type": "code",
   "execution_count": 9,
   "metadata": {},
   "outputs": [],
   "source": [
    "def debug_patient_outcomes(hup_atlas_path: str, meta_data_path: str):\n",
    "    \"\"\"\n",
    "    Debug patient outcomes and verify mappings\n",
    "    \"\"\"\n",
    "    # Load HUP atlas (it's a .mat file, not csv)\n",
    "    hup_atlas = sio.loadmat(hup_atlas_path)\n",
    "    patient_nos = np.unique(hup_atlas['patient_no'].flatten())\n",
    "    print(f\"Total unique patients in HUP atlas: {len(patient_nos)}\")\n",
    "    print(\"Patient numbers:\", patient_nos)\n",
    "    \n",
    "    # Load metadata\n",
    "    meta_df = pd.read_csv(meta_data_path)\n",
    "    print(f\"\\nTotal rows in metadata: {len(meta_df)}\")\n",
    "    \n",
    "    # Process outcomes\n",
    "    outcomes = {}\n",
    "    good_outcomes = []\n",
    "    bad_outcomes = []\n",
    "    \n",
    "    for idx, row in meta_df.iterrows():\n",
    "        max_engel = max(row['Engel_12_mo'], row['Engel_24_mo'])\n",
    "        is_good = max_engel < 1.3\n",
    "        \n",
    "        # Match metadata rows to patient numbers\n",
    "        patient_no = patient_nos[idx]\n",
    "        outcomes[patient_no] = is_good\n",
    "        \n",
    "        if is_good:\n",
    "            good_outcomes.append(patient_no)\n",
    "        else:\n",
    "            bad_outcomes.append(patient_no)\n",
    "    \n",
    "    print(\"\\nOutcome Summary:\")\n",
    "    print(f\"Good outcome patients: {len(good_outcomes)}\")\n",
    "    print(f\"Bad outcome patients: {len(bad_outcomes)}\")\n",
    "    print(\"\\nGood outcome patient numbers:\", sorted(good_outcomes))\n",
    "    print(\"Bad outcome patient numbers:\", sorted(bad_outcomes))\n",
    "    \n",
    "    return outcomes, good_outcomes, bad_outcomes"
   ]
  },
  {
   "cell_type": "code",
   "execution_count": 11,
   "metadata": {},
   "outputs": [
    {
     "name": "stdout",
     "output_type": "stream",
     "text": [
      "Total unique patients in HUP atlas: 60\n",
      "Patient numbers: [ 1  2  3  4  5  6  7  8  9 10 11 12 13 14 15 16 17 18 19 20 21 22 23 24\n",
      " 25 26 27 28 29 30 31 32 33 34 35 36 37 38 39 40 41 42 43 44 45 46 47 48\n",
      " 49 50 51 52 53 54 55 56 57 58 59 60]\n",
      "\n",
      "Total rows in metadata: 60\n",
      "\n",
      "Outcome Summary:\n",
      "Good outcome patients: 28\n",
      "Bad outcome patients: 32\n",
      "\n",
      "Good outcome patient numbers: [np.uint8(3), np.uint8(4), np.uint8(5), np.uint8(6), np.uint8(9), np.uint8(10), np.uint8(14), np.uint8(15), np.uint8(17), np.uint8(18), np.uint8(19), np.uint8(20), np.uint8(23), np.uint8(24), np.uint8(25), np.uint8(26), np.uint8(27), np.uint8(30), np.uint8(33), np.uint8(34), np.uint8(38), np.uint8(39), np.uint8(40), np.uint8(42), np.uint8(44), np.uint8(52), np.uint8(53), np.uint8(55)]\n",
      "Bad outcome patient numbers: [np.uint8(1), np.uint8(2), np.uint8(7), np.uint8(8), np.uint8(11), np.uint8(12), np.uint8(13), np.uint8(16), np.uint8(21), np.uint8(22), np.uint8(28), np.uint8(29), np.uint8(31), np.uint8(32), np.uint8(35), np.uint8(36), np.uint8(37), np.uint8(41), np.uint8(43), np.uint8(45), np.uint8(46), np.uint8(47), np.uint8(48), np.uint8(49), np.uint8(50), np.uint8(51), np.uint8(54), np.uint8(56), np.uint8(57), np.uint8(58), np.uint8(59), np.uint8(60)]\n"
     ]
    }
   ],
   "source": [
    "debug_outcomes = debug_patient_outcomes(\n",
    "    '../Data/HUP_atlas.mat',  # Changed from hup_df.csv\n",
    "    '../Data/metaData.csv'\n",
    ")"
   ]
  }
 ],
 "metadata": {
  "kernelspec": {
   "display_name": "cnt_gen",
   "language": "python",
   "name": "python3"
  },
  "language_info": {
   "codemirror_mode": {
    "name": "ipython",
    "version": 3
   },
   "file_extension": ".py",
   "mimetype": "text/x-python",
   "name": "python",
   "nbconvert_exporter": "python",
   "pygments_lexer": "ipython3",
   "version": "3.12.4"
  }
 },
 "nbformat": 4,
 "nbformat_minor": 2
}
