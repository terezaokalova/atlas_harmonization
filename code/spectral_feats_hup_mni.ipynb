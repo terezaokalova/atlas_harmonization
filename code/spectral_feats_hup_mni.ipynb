{
 "cells": [
  {
   "cell_type": "code",
   "execution_count": 4,
   "metadata": {},
   "outputs": [],
   "source": [
    "import scipy.io as sio\n",
    "import numpy as np\n",
    "import matplotlib.pyplot as plt\n",
    "import pandas as pd\n",
    "import os"
   ]
  },
  {
   "cell_type": "code",
   "execution_count": 6,
   "metadata": {},
   "outputs": [],
   "source": [
    "base_path_data = '/Users/tereza/nishant/atlas/epi_iEEG_atlas/Data'\n",
    "hup_atlas = sio.loadmat(os.path.join(base_path_data, 'HUP_atlas.mat'))\n",
    "mni_atlas = sio.loadmat(os.path.join(base_path_data, 'MNI_atlas.mat'))"
   ]
  },
  {
   "cell_type": "code",
   "execution_count": 10,
   "metadata": {},
   "outputs": [],
   "source": [
    "hup_df = pd.DataFrame(hup_atlas['mni_coords'], columns=['x', 'y', 'z'])\n",
    "mni_df = pd.DataFrame(mni_atlas['ChannelPosition'], columns=['x', 'y', 'z'])"
   ]
  },
  {
   "cell_type": "code",
   "execution_count": 13,
   "metadata": {},
   "outputs": [],
   "source": [
    "hup_ts = pd.DataFrame(hup_atlas['wake_clip'])\n",
    "mni_ts = pd.DataFrame(mni_atlas['Data_W'])\n",
    "\n",
    "# create a copy of the "
   ]
  }
 ],
 "metadata": {
  "kernelspec": {
   "display_name": "cnt_gen",
   "language": "python",
   "name": "python3"
  },
  "language_info": {
   "codemirror_mode": {
    "name": "ipython",
    "version": 3
   },
   "file_extension": ".py",
   "mimetype": "text/x-python",
   "name": "python",
   "nbconvert_exporter": "python",
   "pygments_lexer": "ipython3",
   "version": "3.12.4"
  }
 },
 "nbformat": 4,
 "nbformat_minor": 2
}
